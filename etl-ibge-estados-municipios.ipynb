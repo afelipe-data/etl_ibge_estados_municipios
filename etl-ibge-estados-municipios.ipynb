{
 "cells": [
  {
   "cell_type": "markdown",
   "metadata": {},
   "source": [
    " # Extração dos dados"
   ]
  },
  {
   "cell_type": "code",
   "execution_count": 42,
   "metadata": {},
   "outputs": [],
   "source": [
    "import pandas as pd\n",
    "import requests"
   ]
  },
  {
   "cell_type": "markdown",
   "metadata": {},
   "source": [
    "### Listar as UF's"
   ]
  },
  {
   "cell_type": "code",
   "execution_count": 43,
   "metadata": {},
   "outputs": [],
   "source": [
    "def get_uf_list():\n",
    "    response = requests.get('http://servicodados.ibge.gov.br/api/v1/localidades/estados')\n",
    "\n",
    "    if response.status_code == 200:\n",
    "        uf_metadata = response.json()\n",
    "        uf_siglas = [ uf['sigla'] for uf in uf_metadata ]\n",
    "        \n",
    "        return uf_siglas\n",
    "    else:\n",
    "        raise Exception('Não foi possível obter os dados dos estados brasileiros.')"
   ]
  },
  {
   "cell_type": "markdown",
   "metadata": {},
   "source": [
    "### Área de cada Estado"
   ]
  },
  {
   "cell_type": "code",
   "execution_count": 44,
   "metadata": {},
   "outputs": [],
   "source": [
    "def get_metadados_estado(uf:str):\n",
    "    url = f'http://servicodados.ibge.gov.br/api/v3/malhas/estados/{uf}/metadados'\n",
    "    response = requests.get(url)\n",
    "    if response.status_code == 200:\n",
    "        return response.json()\n",
    "    else:\n",
    "        return None "
   ]
  },
  {
   "cell_type": "code",
   "execution_count": 45,
   "metadata": {},
   "outputs": [],
   "source": [
    "def get_uf_area(lista_ufs_siglas:list):\n",
    "    uf_area = {}\n",
    "\n",
    "    for uf in lista_ufs_siglas:\n",
    "        metadados = get_metadados_estado(uf)\n",
    "        uf_metadado_area = metadados[0]['area']['dimensao']\n",
    "        uf_area[uf] = uf_metadado_area\n",
    "\n",
    "    return uf_area"
   ]
  },
  {
   "cell_type": "markdown",
   "metadata": {},
   "source": [
    "### Lista de cidades por Estado"
   ]
  },
  {
   "cell_type": "code",
   "execution_count": 46,
   "metadata": {},
   "outputs": [],
   "source": [
    "def get_metadados_municipio(uf:str):\n",
    "    url = f'http://servicodados.ibge.gov.br/api/v1/localidades/estados/{uf}/municipios'\n",
    "\n",
    "    response = requests.get(url)\n",
    "\n",
    "    if response.status_code == 200:\n",
    "        return response.json()\n",
    "    else:\n",
    "        return None"
   ]
  },
  {
   "cell_type": "code",
   "execution_count": 47,
   "metadata": {},
   "outputs": [],
   "source": [
    "def get_municipios(lista_ufs_siglas:list):\n",
    "    ufs_municipios = {}\n",
    "    for uf in lista_ufs_siglas:\n",
    "        metadados = get_metadados_municipio(uf)\n",
    "        ufs_municipio = []\n",
    "        for municipio in metadados:\n",
    "            ufs_municipio.append(municipio['nome'])\n",
    "        ufs_municipios[uf] = ufs_municipio\n",
    "    return ufs_municipios "
   ]
  },
  {
   "cell_type": "code",
   "execution_count": 48,
   "metadata": {},
   "outputs": [],
   "source": [
    "lista_ufs_siglas = get_uf_list()"
   ]
  },
  {
   "cell_type": "code",
   "execution_count": 49,
   "metadata": {},
   "outputs": [],
   "source": [
    "\n",
    "lista_ufs_area = get_uf_area(lista_ufs_siglas)\n",
    "lista_ufs_municipios = get_municipios(lista_ufs_siglas)"
   ]
  },
  {
   "cell_type": "markdown",
   "metadata": {},
   "source": [
    "## Transformação dos Dados"
   ]
  },
  {
   "cell_type": "markdown",
   "metadata": {},
   "source": [
    "### Dados de área por UF"
   ]
  },
  {
   "cell_type": "code",
   "execution_count": 50,
   "metadata": {},
   "outputs": [],
   "source": [
    "# Transformando em DataFrame e convertendo os tipos\n",
    "uf_area_df = pd.DataFrame(list(lista_ufs_area.items()), columns=['UF','Area'])\n",
    "\n",
    "# Conversão dos tipos de dados\n",
    "uf_area_df['Area'] = uf_area_df['Area'].astype(float)\n",
    "\n",
    "# Ordenação por área\n",
    "uf_area_df_ordenada = uf_area_df.sort_values(by='Area', ascending=False)"
   ]
  },
  {
   "cell_type": "markdown",
   "metadata": {},
   "source": [
    "### Lista de Municipios por UF\n"
   ]
  },
  {
   "cell_type": "code",
   "execution_count": 51,
   "metadata": {},
   "outputs": [],
   "source": [
    "lista_ufs_municipios_df = pd.DataFrame(lista_ufs_municipios.items(), columns=['UF', 'Municipios'])\n",
    "lista_ufs_municipios_df_exploded = lista_ufs_municipios_df.explode('Municipios')"
   ]
  },
  {
   "cell_type": "markdown",
   "metadata": {},
   "source": [
    "# Parte 3: Salvando os dados"
   ]
  },
  {
   "cell_type": "code",
   "execution_count": 52,
   "metadata": {},
   "outputs": [],
   "source": [
    "# Salvando lista de UF's em .csv\n",
    "\n",
    "uf_area_df_ordenada.to_csv('./data/uf_area.csv', index=False, sep=';', encoding='utf-8')"
   ]
  },
  {
   "cell_type": "code",
   "execution_count": 53,
   "metadata": {},
   "outputs": [],
   "source": [
    "# Salvando lista de UF's em Parket particionado por UF\n",
    "\n",
    "lista_ufs_municipios_df_exploded.to_parquet('./data/parket/municipios/', index=False, partition_cols=['UF'])"
   ]
  }
 ],
 "metadata": {
  "kernelspec": {
   "display_name": "Python 3 (ipykernel)",
   "language": "python",
   "name": "python3"
  },
  "language_info": {
   "codemirror_mode": {
    "name": "ipython",
    "version": 3
   },
   "file_extension": ".py",
   "mimetype": "text/x-python",
   "name": "python",
   "nbconvert_exporter": "python",
   "pygments_lexer": "ipython3",
   "version": "3.9.13"
  }
 },
 "nbformat": 4,
 "nbformat_minor": 2
}
